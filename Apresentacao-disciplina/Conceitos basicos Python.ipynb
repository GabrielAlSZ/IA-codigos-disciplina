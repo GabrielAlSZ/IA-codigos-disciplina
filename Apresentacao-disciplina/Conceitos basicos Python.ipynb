{
  "nbformat": 4,
  "nbformat_minor": 0,
  "metadata": {
    "colab": {
      "name": "Aula IA - Conceitos basicos Python.ipynb",
      "provenance": [],
      "toc_visible": true,
      "authorship_tag": "ABX9TyPao9uG8GRjU1bkjU25fBp3",
      "include_colab_link": true
    },
    "kernelspec": {
      "name": "python3",
      "display_name": "Python 3"
    }
  },
  "cells": [
    {
      "cell_type": "markdown",
      "metadata": {
        "id": "view-in-github",
        "colab_type": "text"
      },
      "source": [
        "<a href=\"https://colab.research.google.com/github/jadsoncastro/IA-codigos-disciplina/blob/main/Apresentacao-disciplina/Conceitos%20basicos%20Python.ipynb\" target=\"_parent\"><img src=\"https://colab.research.google.com/assets/colab-badge.svg\" alt=\"Open In Colab\"/></a>"
      ]
    },
    {
      "cell_type": "markdown",
      "metadata": {
        "id": "GXY5gMBG7YXS"
      },
      "source": [
        "# Entrada e saída de dados\n",
        "* Configuração dos tipos de entrada (***Int, float, string***)\n",
        "* Padrão na formatação da saída"
      ]
    },
    {
      "cell_type": "code",
      "metadata": {
        "id": "6V2kKpy4tCwY"
      },
      "source": [
        "#hello world"
      ],
      "execution_count": null,
      "outputs": []
    },
    {
      "cell_type": "code",
      "metadata": {
        "id": "gjNDfk7vucbd"
      },
      "source": [
        ""
      ],
      "execution_count": null,
      "outputs": []
    },
    {
      "cell_type": "markdown",
      "metadata": {
        "id": "gilqkqMJ7eWY"
      },
      "source": [
        "#Estruturas condicionais"
      ]
    },
    {
      "cell_type": "code",
      "metadata": {
        "id": "J2IoaXsMxJoA"
      },
      "source": [
        ""
      ],
      "execution_count": null,
      "outputs": []
    },
    {
      "cell_type": "markdown",
      "metadata": {
        "id": "K6WivO8FyZxK"
      },
      "source": [
        "# Bloco sobre estruturas de **repetição**\n",
        "\n",
        "\n",
        "*   Repetição simples\n",
        "*   Repetição aninhada\n",
        "\n"
      ]
    },
    {
      "cell_type": "code",
      "metadata": {
        "id": "8AZ4Y-sgylwI"
      },
      "source": [
        ""
      ],
      "execution_count": null,
      "outputs": []
    },
    {
      "cell_type": "code",
      "source": [
        ""
      ],
      "metadata": {
        "id": "HsP55Fc6WahF"
      },
      "execution_count": null,
      "outputs": []
    },
    {
      "cell_type": "markdown",
      "metadata": {
        "id": "9QquJmrm1Adw"
      },
      "source": [
        "# Vetores e matrizes\n",
        "* Inicialização de vetores\n",
        "* Inicialização de matrizes"
      ]
    },
    {
      "cell_type": "code",
      "metadata": {
        "id": "2agGi_cj07cS"
      },
      "source": [
        ""
      ],
      "execution_count": null,
      "outputs": []
    },
    {
      "cell_type": "markdown",
      "metadata": {
        "id": "MXwHwh2U2bMd"
      },
      "source": [
        "# Comando de repetição (FOR)\n",
        "* *for* em listas\n",
        "* parâmetros para a função range\n"
      ]
    },
    {
      "cell_type": "code",
      "metadata": {
        "id": "Z0nxGXX22eaR"
      },
      "source": [
        ""
      ],
      "execution_count": null,
      "outputs": []
    },
    {
      "cell_type": "code",
      "metadata": {
        "id": "-oSRGdzc3kaE"
      },
      "source": [
        ""
      ],
      "execution_count": null,
      "outputs": []
    },
    {
      "cell_type": "code",
      "metadata": {
        "id": "adGQX36R3_ej"
      },
      "source": [
        ""
      ],
      "execution_count": null,
      "outputs": []
    },
    {
      "cell_type": "markdown",
      "metadata": {
        "id": "OCyNIPmt4WMI"
      },
      "source": [
        "# Funções\n",
        "* Definição e retorno de uma função\n"
      ]
    },
    {
      "cell_type": "code",
      "metadata": {
        "id": "OBefRoRQ4Vdf"
      },
      "source": [
        ""
      ],
      "execution_count": null,
      "outputs": []
    },
    {
      "cell_type": "code",
      "metadata": {
        "id": "5Ci_SBE84xUI"
      },
      "source": [
        ""
      ],
      "execution_count": null,
      "outputs": []
    },
    {
      "cell_type": "markdown",
      "metadata": {
        "id": "dGit_idp5aEx"
      },
      "source": [
        "#Dicionários"
      ]
    },
    {
      "cell_type": "code",
      "metadata": {
        "id": "PSn9kqyu5NkI"
      },
      "source": [
        ""
      ],
      "execution_count": null,
      "outputs": []
    },
    {
      "cell_type": "markdown",
      "metadata": {
        "id": "959nnBLp7m8j"
      },
      "source": [
        "#Objetos"
      ]
    },
    {
      "cell_type": "code",
      "metadata": {
        "id": "p8GLiypb7o1F"
      },
      "source": [
        ""
      ],
      "execution_count": null,
      "outputs": []
    },
    {
      "cell_type": "code",
      "metadata": {
        "id": "P-zv__9Z8y77"
      },
      "source": [
        ""
      ],
      "execution_count": null,
      "outputs": []
    }
  ]
}